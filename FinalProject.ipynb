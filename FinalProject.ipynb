{
 "cells": [
  {
   "cell_type": "code",
   "execution_count": null,
   "id": "3f20502e-953a-4199-a465-1de226b7c404",
   "metadata": {},
   "outputs": [],
   "source": [
    "import pandas as pd\n",
    "import numpy as np\n",
    "import boto3\n",
    "from sklearn.linear_model import LinearRegression\n",
    "from sklearn.metrics import mean_absolute_error, mean_squared_error, r2_score\n",
    "import matplotlib.pyplot as plt\n",
    "\n",
    "# 1. Load CSV directly from S3\n",
    "bucket = 'harperkatesbucket'\n",
    "key = 'nasa_power_data.csv'\n",
    "s3_uri = f's3://{bucket}/{key}'\n",
    "\n",
    "df = pd.read_csv(s3_uri)  # Assumes SageMaker IAM role has access to the bucket\n",
    "\n",
    "# 2. Create target: next-day radiation\n",
    "nextday = df[[\"ALLSKY_SFC_SW_DWN\"]][1:].reset_index(drop=True).rename(columns={\"ALLSKY_SFC_SW_DWN\": \"rad_nd\"})\n",
    "datam = pd.concat([df, nextday], axis=1).iloc[:-1]\n",
    "\n",
    "# 3. Time-based train/test split\n",
    "X_train = datam[[\"ALLSKY_SFC_SW_DWN\", \"PRECTOTCORR\"]][:12419]\n",
    "X_test = datam[[\"ALLSKY_SFC_SW_DWN\", \"PRECTOTCORR\"]][12419:]\n",
    "y_train = datam[[\"rad_nd\"]][:12419]\n",
    "y_test = datam[[\"rad_nd\"]][12419:]\n",
    "\n",
    "# 4. Fit linear regression\n",
    "lr_model = LinearRegression()\n",
    "lr_model.fit(X_train, y_train)\n",
    "y_pred = lr_model.predict(X_test)\n",
    "\n",
    "# 5. Evaluate\n",
    "mae = mean_absolute_error(y_test, y_pred)\n",
    "rmse = np.sqrt(mean_squared_error(y_test, y_pred))\n",
    "r2 = r2_score(y_test, y_pred)\n",
    "print(f\"MAE: {mae:.2f}, RMSE: {rmse:.2f}, R²: {r2:.2f}\")\n",
    "\n",
    "# 6. Plot predictions\n",
    "date_index = pd.date_range(start='2018-01-01', periods=len(y_test), freq='D')\n",
    "y_test.index = date_index\n",
    "y_pred_series = pd.Series(y_pred.flatten(), index=date_index)\n",
    "\n",
    "plt.figure(figsize=(12, 4))\n",
    "plt.plot(y_test, label='True', color='blue')\n",
    "plt.plot(y_pred_series, label='Predicted', color='red', alpha=0.6)\n",
    "plt.title('Predicted vs. Actual Radiation from Linear Regression')\n",
    "plt.xlabel('Date')\n",
    "plt.ylabel('Radiation (MJ/m²/day)')\n",
    "plt.legend()\n",
    "plt.show()\n"
   ]
  }
 ],
 "metadata": {
  "kernelspec": {
   "display_name": "Python 3 (ipykernel)",
   "language": "python",
   "name": "python3"
  },
  "language_info": {
   "codemirror_mode": {
    "name": "ipython",
    "version": 3
   },
   "file_extension": ".py",
   "mimetype": "text/x-python",
   "name": "python",
   "nbconvert_exporter": "python",
   "pygments_lexer": "ipython3",
   "version": "3.13.2"
  }
 },
 "nbformat": 4,
 "nbformat_minor": 5
}
